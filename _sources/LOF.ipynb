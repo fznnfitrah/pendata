{
 "cells": [
  {
   "cell_type": "markdown",
   "metadata": {},
   "source": [
    "# **LOCAL OUTLIERS FACTORS (LOF)**"
   ]
  },
  {
   "cell_type": "markdown",
   "metadata": {},
   "source": [
    "## **Penjelasan Local Outliers Factors**\n",
    "\n",
    "LOF (Local Outlier Factor) adalah algoritma yang digunakan untuk mendeteksi outlier (anomali) dalam sekumpulan data. Outlier adalah titik data yang berbeda jauh dari data lainnya, misalnya transaksi mencurigakan dalam deteksi penipuan atau sensor yang memberikan pembacaan aneh.\n",
    "\n",
    "Yang membedakan LOF dari metode lain adalah pendekatan berbasis kepadatan lokal. LOF membandingkan kepadatan suatu titik data dengan kepadatan tetangganya. Jika kepadatan suatu titik jauh lebih rendah dibandingkan dengan tetangganya, maka titik tersebut dianggap sebagai outlier.\n",
    "\n"
   ]
  },
  {
   "cell_type": "markdown",
   "metadata": {},
   "source": [
    "## **Cara Kerja LOF (Langkah-Langkah)**  \n",
    "1. Tentukan jumlah tetangga (k).\n",
    "   - Kita memilih **k** tetangga terdekat untuk setiap titik (misalnya, \\( k = 3 \\)).  \n",
    "   - Tetangga ini ditentukan menggunakan jarak rumus Euclidean, berikut adalah rumusnya: \n",
    "   $$\n",
    "      d(A, B) = \\sqrt{(x_B - x_A)^2 + (y_B - y_A)^2}\n",
    "   $$\n",
    "\n",
    "\n",
    "\n",
    "2. Hitung jarak jangkauan k-tetangga.\n",
    "   - **Jarak jangkauan** dari titik \\( A \\) ke titik \\( B \\) didefinisikan sebagai:  \n",
    "\n",
    "     $$ reach-dist_k(A, B) = \\max(d(A, B), \\text{k-distance}(B)) $$\n",
    "\n",
    "     - $ d(A, B) $ = **jarak Euclidean** antara A dan B . \n",
    "     - $ {k-distance}(B) $ = jarak dari $B$ ke tetangga ke-$k$ terjauhnya.  \n",
    "     - Jika $ A $ sudah lebih jauh dari tetangga ke- $k$  terjauh dari $ B $, gunakan jarak tersebut.  \n",
    "\n",
    "3. Hitung kepadatan lokal (Local Reachability Density, LRD).\n",
    "   - LRD mengukur seberapa \"rapat\" suatu titik dibandingkan dengan tetangganya.  \n",
    "   - Rumusnya:  \n",
    "     $$\n",
    "     \\text{LRD}_k(A) = \\frac{k}{\\sum_{B \\in N_k(A)} \\text{reach-dist}_k(A, B)}\n",
    "     $$\n",
    "     - $ N_k(A) $ = k tetangga terdekat dari $ A $.  \n",
    "     - Semakin kecil LRD, semakin jarang titik tersebut berada dalam kelompoknya.  \n",
    "\n",
    "4. Hitung Local Outlier Factor (LOF).\n",
    "   - LOF membandingkan kepadatan titik $ A $ dengan kepadatan rata-rata tetangganya:  \n",
    "     $$\n",
    "     \\text{LOF}_k(A) = \\frac{\\sum_{B \\in N_k(A)} \\frac{\\text{LRD}_k(B)}{\\text{LRD}_k(A)}}{k}\n",
    "     $$\n",
    "     - Jika **LOF ≈ 1**, maka titik memiliki kepadatan yang sama dengan tetangganya (bukan outlier).  \n",
    "     - Jika **LOF > 1**, titik lebih jarang dibandingkan tetangganya (mungkin outlier).  \n",
    "     - Jika **LOF ≫ 1** (misalnya lebih dari 1.5 atau 2), maka titik sangat berbeda dan kemungkinan besar merupakan **outlier**.  \n"
   ]
  },
  {
   "cell_type": "markdown",
   "metadata": {},
   "source": [
    "## **Contoh Data**\n",
    "| id  | x1 | x2 |\n",
    "| --- | --- | --- |\n",
    "| 1   | 2  | 2  |\n",
    "| 2 | 3  | 5  |\n",
    "| 3 | 1  | 1  |\n",
    "| 4 | 20  | 40  |\n",
    "| 5 | 5  | 3  |\n",
    "| 6 | 2  | 3  |\n",
    "| 7 | 4  | 1  |\n",
    "| 8 | 1  | 5  |\n",
    "| 9 | 5  | 4  |\n",
    "| 10 | 3  | 4  |\n"
   ]
  },
  {
   "cell_type": "markdown",
   "metadata": {},
   "source": [
    "## ***Proses Perhitungan LOF Manual tanpa Library scikit-learn***\n",
    "\n",
    "Sebagai contoh dari perhitungan LOF, disini penulis hanya menggunakan data indeks ke-3 untuk proses perhitungan Euclidean, Reachibility Distance, dan juga Local Reachibility Dencity saja. Jika memungkinkan, hasil dari perhitungan yang lain akan ditampilkan dengan menggunakan excel. Urutan dari proses perhitungan LOF juga dimulai dengan menghitung rumus Euclidean, dilanjutkan dengan rumus RD, selanjutnya adalah rumus LRD dan yang terakhir adalah menentukan nilai LOF dari setiap data.\n"
   ]
  },
  {
   "cell_type": "markdown",
   "metadata": {},
   "source": [
    "### *Menghitung Rumus Euclidean*\n",
    "\n",
    "Proses pertama adalah menghitung jarak dari data indeks ke-3 ke semua data, dan untuk rumusnya kita menggunakan rumus Euclidean yang sudah penulis berikan di atas. berikut adalah perhitungannya"
   ]
  },
  {
   "cell_type": "code",
   "execution_count": 2,
   "metadata": {},
   "outputs": [
    {
     "name": "stdout",
     "output_type": "stream",
     "text": [
      "Jarak Euclidean antara titik yang dipilih (diurutkan dari terbesar ke terkecil):\n",
      "Jarak dari indeks 3 ke indeks 2: 43.38\n",
      "Jarak dari indeks 3 ke indeks 6: 42.15\n",
      "Jarak dari indeks 3 ke indeks 0: 42.05\n",
      "Jarak dari indeks 3 ke indeks 5: 41.15\n",
      "Jarak dari indeks 3 ke indeks 4: 39.92\n",
      "Jarak dari indeks 3 ke indeks 7: 39.82\n",
      "Jarak dari indeks 3 ke indeks 9: 39.81\n",
      "Jarak dari indeks 3 ke indeks 8: 39.00\n",
      "Jarak dari indeks 3 ke indeks 1: 38.91\n"
     ]
    }
   ],
   "source": [
    "import numpy as np\n",
    "from scipy.spatial.distance import euclidean\n",
    "\n",
    "\n",
    "def compute_distance_between_points(data, point_indices):\n",
    "    distances = {}\n",
    "    for (i, j) in point_indices:\n",
    "        if i != j:\n",
    "            distances[(i, j)] = euclidean(data[i], data[j])\n",
    "    return distances\n",
    "\n",
    "\n",
    "points = np.array([\n",
    "    [2, 2],\n",
    "    [3, 5],\n",
    "    [1, 1],\n",
    "    [20, 40],\n",
    "    [5, 3],\n",
    "    [2,3],\n",
    "    [4,1],\n",
    "    [1,5],\n",
    "    [5,4],\n",
    "    [3,4]\n",
    "])\n",
    "\n",
    "selected_pairs = [(3, 0), (3, 1), (3, 2), (3, 4), (3, 5), (3, 6), (3, 7), (3, 8), (3, 9)]\n",
    "distances = compute_distance_between_points(points, selected_pairs)\n",
    "\n",
    "sorted_distances = sorted(distances.items(), key=lambda x: x[1], reverse=True)\n",
    "print(\"Jarak Euclidean antara titik yang dipilih (diurutkan dari terbesar ke terkecil):\")\n",
    "for (i, j), dist in sorted_distances:\n",
    "    print(f\"Jarak dari indeks {i} ke indeks {j}: {dist:.2f}\")\n"
   ]
  },
  {
   "cell_type": "code",
   "execution_count": 3,
   "metadata": {},
   "outputs": [
    {
     "name": "stdout",
     "output_type": "stream",
     "text": [
      "Jarak Euclidean antara titik yang dipilih (diurutkan dari terbesar ke terkecil):\n",
      "Jarak dari indeks 9 ke indeks 3: 39.81\n",
      "Jarak dari indeks 9 ke indeks 2: 3.61\n",
      "Jarak dari indeks 9 ke indeks 6: 3.16\n",
      "Jarak dari indeks 9 ke indeks 0: 2.24\n",
      "Jarak dari indeks 9 ke indeks 4: 2.24\n",
      "Jarak dari indeks 9 ke indeks 7: 2.24\n",
      "Jarak dari indeks 9 ke indeks 8: 2.00\n",
      "Jarak dari indeks 9 ke indeks 5: 1.41\n",
      "Jarak dari indeks 9 ke indeks 1: 1.00\n"
     ]
    }
   ],
   "source": [
    "points = np.array([\n",
    "    [2, 2],\n",
    "    [3, 5],\n",
    "    [1, 1],\n",
    "    [20, 40],\n",
    "    [5, 3],\n",
    "    [2,3],\n",
    "    [4,1],\n",
    "    [1,5],\n",
    "    [5,4],\n",
    "    [3,4]\n",
    "])\n",
    "\n",
    "selected_pairs = [(9, 0), (9, 1), (9, 2), (9, 4), (9, 5), (9, 6), (9, 7), (9, 8), (9, 3)]\n",
    "distances = compute_distance_between_points(points, selected_pairs)\n",
    "\n",
    "sorted_distances = sorted(distances.items(), key=lambda x: x[1], reverse=True)\n",
    "print(\"Jarak Euclidean antara titik yang dipilih (diurutkan dari terbesar ke terkecil):\")\n",
    "for (i, j), dist in sorted_distances:\n",
    "    print(f\"Jarak dari indeks {i} ke indeks {j}: {dist:.2f}\")"
   ]
  },
  {
   "cell_type": "code",
   "execution_count": null,
   "metadata": {},
   "outputs": [
    {
     "name": "stdout",
     "output_type": "stream",
     "text": [
      "Jarak Euclidean antara titik yang dipilih (diurutkan dari terbesar ke terkecil):\n",
      "Jarak dari indeks 8 ke indeks 3: 39.00\n",
      "Jarak dari indeks 8 ke indeks 2: 5.00\n",
      "Jarak dari indeks 8 ke indeks 7: 4.12\n",
      "Jarak dari indeks 8 ke indeks 0: 3.61\n",
      "Jarak dari indeks 8 ke indeks 5: 3.16\n",
      "Jarak dari indeks 8 ke indeks 6: 3.16\n",
      "Jarak dari indeks 8 ke indeks 1: 2.24\n",
      "Jarak dari indeks 8 ke indeks 9: 2.00\n",
      "Jarak dari indeks 8 ke indeks 4: 1.00\n"
     ]
    }
   ],
   "source": [
    "points = np.array([\n",
    "    [2, 2],\n",
    "    [3, 5],\n",
    "    [1, 1],\n",
    "    [20, 40],\n",
    "    [5, 3],\n",
    "    [2,3],\n",
    "    [4,1],\n",
    "    [1,5],\n",
    "    [5,4],\n",
    "    [3,4]\n",
    "])\n",
    "\n",
    "selected_pairs = [(8, 0), (8, 1), (8, 2), (8, 4), (8, 5), (8, 6), (8, 7), (8, 9), (8, 3)]\n",
    "distances = compute_distance_between_points(points, selected_pairs)\n",
    "\n",
    "\n",
    "sorted_distances = sorted(distances.items(), key=lambda x: x[1], reverse=True)\n",
    "print(\"Jarak Euclidean antara titik yang dipilih (diurutkan dari terbesar ke terkecil):\")\n",
    "for (i, j), dist in sorted_distances:\n",
    "    print(f\"Jarak dari indeks {i} ke indeks {j}: {dist:.2f}\")\n"
   ]
  },
  {
   "cell_type": "code",
   "execution_count": null,
   "metadata": {},
   "outputs": [
    {
     "name": "stdout",
     "output_type": "stream",
     "text": [
      "Jarak Euclidean antara titik yang dipilih (diurutkan dari terbesar ke terkecil):\n",
      "Jarak dari indeks 1 ke indeks 3: 38.91\n",
      "Jarak dari indeks 1 ke indeks 2: 4.47\n",
      "Jarak dari indeks 1 ke indeks 6: 4.12\n",
      "Jarak dari indeks 1 ke indeks 0: 3.16\n",
      "Jarak dari indeks 1 ke indeks 4: 2.83\n",
      "Jarak dari indeks 1 ke indeks 5: 2.24\n",
      "Jarak dari indeks 1 ke indeks 8: 2.24\n",
      "Jarak dari indeks 1 ke indeks 7: 2.00\n",
      "Jarak dari indeks 1 ke indeks 9: 1.00\n"
     ]
    }
   ],
   "source": [
    "points = np.array([\n",
    "    [2, 2],\n",
    "    [3, 5],\n",
    "    [1, 1],\n",
    "    [20, 40],\n",
    "    [5, 3],\n",
    "    [2,3],\n",
    "    [4,1],\n",
    "    [1,5],\n",
    "    [5,4],\n",
    "    [3,4]\n",
    "])\n",
    "\n",
    "selected_pairs = [(1, 0), (1, 9), (1, 2), (1, 4), (1, 5), (1, 6), (1, 7), (1, 8), (1, 3)]\n",
    "distances = compute_distance_between_points(points, selected_pairs)\n",
    "\n",
    "sorted_distances = sorted(distances.items(), key=lambda x: x[1], reverse=True)\n",
    "print(\"Jarak Euclidean antara titik yang dipilih (diurutkan dari terbesar ke terkecil):\")\n",
    "for (i, j), dist in sorted_distances:\n",
    "    print(f\"Jarak dari indeks {i} ke indeks {j}: {dist:.2f}\")\n"
   ]
  },
  {
   "cell_type": "markdown",
   "metadata": {},
   "source": [
    "Pada perhitungan di atas penulis juga mencari data jarak indeks-1 ke semua data, data jarak indeks-8 ke semua data, dan jarak indeks-9 ke semua data. Kenapa? Dikarenakan untuk melanjutkan ke proses perhitungan selanjutnya kita membutuhkan k-3 tetangga terdekat dari indeks-3. Bisa dilihat bahwa 3 tetangga terdekat dari indeks-3 adalah indeks-1, indeks-8 dan indeks-9. Oleh karena itu kita membutuhkan data k-3 dari masing masing data terdekat tersebut. berikut adalah data k-3 dari setiap indeksnya :\n",
    "\n",
    "1. indeks-1 -> indeks-8 = 2.24 \n",
    "2. indeks-8 -> indeks-1 = 2.24 \n",
    "3. indeks-9 -> indeks-8 = 2.00\n",
    "\n",
    "Data tersebutlah yang nanti akan kita butuhkan dan dibandingkan pada proses rumus RD(Reachibility Distance). Berikut ini adalah data lengkap mengenai semua jarak dari indeks-0 sampai dengan indeks-9, jadi pembaca dapat melihat sendiri bagaimana hasil perhitungannya."
   ]
  },
  {
   "cell_type": "markdown",
   "metadata": {},
   "source": [
    "![K-Distance](k-distance.png \"a title\")"
   ]
  },
  {
   "cell_type": "markdown",
   "metadata": {},
   "source": [
    "### *Menghitung Rumus Reachibility Distance*\n",
    "\n",
    "Setelah penulis mendapatkan data jarak pada indeks 3 ke semua data, dan juga mendapatkan data k-distance pada setiap data yang dekat dengan indeks 3. selanjutnya kita hanya perlu membandingkan nilai untuk mendapatkan RD-nya.\n"
   ]
  },
  {
   "cell_type": "code",
   "execution_count": null,
   "metadata": {},
   "outputs": [
    {
     "name": "stdout",
     "output_type": "stream",
     "text": [
      "Berikut ini adalah nilai dari RD(3,1) : 38.91\n",
      "Berikut ini adalah nilai dari RD(3,8) : 39.0\n",
      "Berikut ini adalah nilai dari RD(3,9) : 39.81\n"
     ]
    }
   ],
   "source": [
    "k_distances_1 = 2.24\n",
    "distance_3_1 = 38.91\n",
    "\n",
    "k_distances_9 = 2.00\n",
    "distance_3_9= 39.81\n",
    "\n",
    "k_distances_8 = 2.24\n",
    "distance_3_8= 39.00\n",
    "\n",
    "rd3_1 = max(k_distances_1, distance_3_1)\n",
    "rd3_8 = max(k_distances_8, distance_3_8)\n",
    "rd3_9 = max(k_distances_9, distance_3_9)\n",
    "\n",
    "print(f\"Berikut ini adalah nilai dari RD(3,1) : {rd3_1}\")\n",
    "print(f\"Berikut ini adalah nilai dari RD(3,8) : {rd3_8}\")\n",
    "print(f\"Berikut ini adalah nilai dari RD(3,9) : {rd3_9}\")\n"
   ]
  },
  {
   "cell_type": "markdown",
   "metadata": {},
   "source": [
    "Berikut ini adalah hasil perhitungan Excel dari rumus RD : \n",
    "\n",
    "![Reachibility Distance](RD.png \"a title\")"
   ]
  },
  {
   "cell_type": "markdown",
   "metadata": {},
   "source": [
    "### *Menghitung Local Reachibility Distance*\n",
    "\n",
    "Setelah kita mendapatkan RD untuk setiap jarak antar indeks 3, selanjutnya kita akan mendapatkan LRD 3 dengan rumus LRD"
   ]
  },
  {
   "cell_type": "code",
   "execution_count": null,
   "metadata": {},
   "outputs": [
    {
     "name": "stdout",
     "output_type": "stream",
     "text": [
      "LRD dari index ke-3 = 0.025484199796126403\n"
     ]
    }
   ],
   "source": [
    "# Menghitung LRD untuk titik (20,40)\n",
    "rd_result = [rd3_1, rd3_8, rd3_9]\n",
    "k = 3 \n",
    "sum_rd = sum(rd_result)  \n",
    "lrd_20_40 = k / sum_rd \n",
    "\n",
    "print(f\"LRD dari index ke-3 = {lrd_20_40}\")\n"
   ]
  },
  {
   "cell_type": "markdown",
   "metadata": {},
   "source": [
    "Berikut ini adalah hasil perhitungan dari rumus LRD dengan perhitungan melalui excel : \n",
    "\n",
    "\n",
    "![Local Reachibility Distance](RD.png \"a title\")"
   ]
  },
  {
   "cell_type": "markdown",
   "metadata": {},
   "source": [
    "setelah mendapatkan LRD kita akan menghitung nilai LOF pada setiap data yang penulis punya, jadi penulis membutuhkan semua data LRD untuk setiap data yang penulis punya. Oleh karena itu untuk mempersingkat prosesnya, penulis langsung menggunakan code yang akan memunculkan perhitungan hasil dari semua LRD tanpa menggunakan library scikit-learn. "
   ]
  },
  {
   "cell_type": "code",
   "execution_count": null,
   "metadata": {},
   "outputs": [
    {
     "data": {
      "text/plain": [
       "{0: np.float64(0.37200096992612636),\n",
       " 1: np.float64(0.4635254915624211),\n",
       " 2: np.float64(0.40149162409079436),\n",
       " 3: np.float64(0.0254837210798201),\n",
       " 4: np.float64(0.41092720756334733),\n",
       " 5: np.float64(0.4635254915624211),\n",
       " 6: np.float64(0.41092720756334733),\n",
       " 7: np.float64(0.4472135954999579),\n",
       " 8: np.float64(0.4635254915624211),\n",
       " 9: np.float64(0.4472135954999579)}"
      ]
     },
     "execution_count": 76,
     "metadata": {},
     "output_type": "execute_result"
    }
   ],
   "source": [
    "data = np.array([\n",
    "    [2, 2],\n",
    "    [3, 5],\n",
    "    [1, 1],\n",
    "    [20, 40],\n",
    "    [5, 3],\n",
    "    [2,3],\n",
    "    [4,1],\n",
    "    [1,5],\n",
    "    [5,4],\n",
    "    [3,4]\n",
    "])\n",
    "\n",
    "def euclidean_distance(p1, p2):\n",
    "    \"\"\"Menghitung jarak Euclidean antara dua titik.\"\"\"\n",
    "    return np.sqrt((p1[0] - p2[0])**2 + (p1[1] - p2[1])**2)\n",
    "\n",
    "def compute_k_distance_neighbors(data, k):\n",
    "    \"\"\"Menghitung k tetangga terdekat untuk setiap titik.\"\"\"\n",
    "    num_points = len(data)\n",
    "    neighbors_dict = {}\n",
    "    \n",
    "    for i in range(num_points):\n",
    "        distances = [(j, euclidean_distance(data[i], data[j])) for j in range(num_points) if i != j]\n",
    "        distances.sort(key=lambda x: x[1])\n",
    "        neighbors_dict[i] = [j for j, d in distances[:k]]\n",
    "    \n",
    "    return neighbors_dict\n",
    "\n",
    "def compute_rd(data, neighbors_dict, k):\n",
    "    \"\"\"Menghitung Reachability Distance (RD) untuk setiap titik.\"\"\"\n",
    "    rd_dict = {}\n",
    "    \n",
    "    k_distances = {i: max(euclidean_distance(data[i], data[j]) for j in neighbors_dict[i]) for i in range(len(data))}\n",
    "    \n",
    "    for i in range(len(data)):\n",
    "        rd_dict[i] = []\n",
    "        for neighbor in neighbors_dict[i]:\n",
    "            rd = max(k_distances[neighbor], euclidean_distance(data[i], data[neighbor]))\n",
    "            rd_dict[i].append(rd)\n",
    "    \n",
    "    return rd_dict\n",
    "\n",
    "def compute_lrd(rd_dict, k):\n",
    "    \"\"\"Menghitung Local Reachability Density (LRD) untuk setiap titik.\"\"\"\n",
    "    lrd_dict = {}\n",
    "    \n",
    "    for i in rd_dict:\n",
    "        sum_rd = sum(rd_dict[i])\n",
    "        lrd_dict[i] = k / sum_rd if sum_rd != 0 else 0  # Hindari pembagian dengan nol\n",
    "    \n",
    "    return lrd_dict\n",
    "\n",
    "# Langkah-langkah perhitungan\n",
    "k = 3\n",
    "neighbors_dict = compute_k_distance_neighbors(data, k)  \n",
    "rd_dict = compute_rd(data, neighbors_dict, k)  \n",
    "lrd_dict = compute_lrd(rd_dict, k) \n",
    "\n",
    "lrd_dict\n"
   ]
  },
  {
   "cell_type": "markdown",
   "metadata": {},
   "source": [
    "### *Menghitung Nilai Local Outliers Factor*\n",
    "\n",
    "Setelah kita mendapatkan semua data yang dibutuhkan kita akan menghitung rumus LOF dari data LRD yang sudah tersedia. Dimana data yang kita gunakan adalah LRD dari indeks ke-1, LRD dari indeks ke-8, dan LRD dari indeks ke-9. berikut ini adalah perhitungannya"
   ]
  },
  {
   "cell_type": "code",
   "execution_count": null,
   "metadata": {},
   "outputs": [
    {
     "name": "stdout",
     "output_type": "stream",
     "text": [
      "Nilai LOF dari indeks ke-3 adalah = 17.974535999999997\n"
     ]
    }
   ],
   "source": [
    "# Data LRD yang sudah dihitung sebelumnya\n",
    "lrd_3 = 0.0255\n",
    "\n",
    "# LRD dari tetangga (1), (8), (9)\n",
    "lrd_neighbors = [0.4635, 0.4635, 0.4472]\n",
    "\n",
    "# Menghitung LOF untuk (3)\n",
    "lof_20_40 = sum(lrd / lrd_20_40 for lrd in lrd_neighbors) / k\n",
    "\n",
    "print(f\"Nilai LOF dari indeks ke-3 adalah = {lof_20_40}\")\n"
   ]
  },
  {
   "cell_type": "markdown",
   "metadata": {},
   "source": [
    "Selanjutnya bisa kita bandingkan data nilai tersebut dengan data nilai LOF yang lain. untuk mencari nilainya disini saya akan menggunakan code python langsung agar tidak terlalu panjang. "
   ]
  },
  {
   "cell_type": "code",
   "execution_count": null,
   "metadata": {},
   "outputs": [
    {
     "data": {
      "text/plain": [
       "{0: np.float64(1.1433163050353923),\n",
       " 1: np.float64(0.9765393757777591),\n",
       " 2: np.float64(1.034852364084868),\n",
       " 3: np.float64(17.97571835918741),\n",
       " 4: np.float64(1.072100906032108),\n",
       " 5: np.float64(0.9224520048615017),\n",
       " 6: np.float64(1.0110904040993238),\n",
       " 7: np.float64(1.0243163389583858),\n",
       " 8: np.float64(0.9504448828842479),\n",
       " 9: np.float64(1.0364745084375788)}"
      ]
     },
     "execution_count": 78,
     "metadata": {},
     "output_type": "execute_result"
    }
   ],
   "source": [
    "# Menghitung LOF untuk semua titik dalam data\n",
    "lof_dict = {}\n",
    "\n",
    "for i in range(len(data)):\n",
    "    lrd_i = lrd_dict[i]  # LRD titik i\n",
    "    lrd_neighbors = [lrd_dict[j] for j in neighbors_dict[i]] \n",
    "    \n",
    "    # Menghitung LOF\n",
    "    lof_dict[i] = sum(lrd / lrd_i for lrd in lrd_neighbors) / k\n",
    "\n",
    "lof_dict\n"
   ]
  },
  {
   "cell_type": "markdown",
   "metadata": {},
   "source": [
    "## ***Proses Perhitungan LOF dengan Menggunakan Scikit-Learn***\n",
    "\n",
    "Pada bab selanjutnya adalah penilaian dengan menggunakan library yang sudah ada di python yaitu scikit-learn. library dapat memudahkan kita mencari ouliers dengan hanya beberapa baris saja. Dapat dilihat dari code yang ada di bawah ini, yang harusnya codenya menghabiskan beberapa baris kolom kita dapat mempersingkatnya hanya dengan 1 kolom baris saja. \n"
   ]
  },
  {
   "cell_type": "code",
   "execution_count": null,
   "metadata": {},
   "outputs": [
    {
     "name": "stdout",
     "output_type": "stream",
     "text": [
      "Indeks-0 → LOF: 1.0995\n",
      "Indeks-1 → LOF: 0.9413\n",
      "Indeks-2 → LOF: 0.9942\n",
      "Indeks-3 → LOF: 17.9757\n",
      "Indeks-4 → LOF: 1.0721\n",
      "Indeks-5 → LOF: 0.9815\n",
      "Indeks-6 → LOF: 0.9714\n",
      "Indeks-7 → LOF: 0.9878\n",
      "Indeks-8 → LOF: 0.9504\n",
      "Indeks-9 → LOF: 1.0000\n"
     ]
    }
   ],
   "source": [
    "import numpy as np\n",
    "from sklearn.neighbors import LocalOutlierFactor\n",
    "\n",
    "data = np.array([\n",
    "    [2, 2], [3, 5], [1, 1], [20, 40], [5, 3],\n",
    "    [2, 3], [4, 1], [1, 5], [5, 4], [3, 4]\n",
    "])\n",
    "\n",
    "lof_model = LocalOutlierFactor(n_neighbors=3, metric='euclidean')\n",
    "\n",
    "lof_scores = -lof_model.fit_predict(data)\n",
    "lof_values = -lof_model.negative_outlier_factor_\n",
    "\n",
    "for i, point in enumerate(data):\n",
    "    print(f\"Indeks-{(i)} → LOF: {lof_values[i]:.4f}\")\n"
   ]
  }
 ],
 "metadata": {
  "kernelspec": {
   "display_name": "Python 3",
   "language": "python",
   "name": "python3"
  },
  "language_info": {
   "codemirror_mode": {
    "name": "ipython",
    "version": 3
   },
   "file_extension": ".py",
   "mimetype": "text/x-python",
   "name": "python",
   "nbconvert_exporter": "python",
   "pygments_lexer": "ipython3",
   "version": "3.11.9"
  }
 },
 "nbformat": 4,
 "nbformat_minor": 2
}
