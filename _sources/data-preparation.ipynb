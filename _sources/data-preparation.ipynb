{
 "cells": [
  {
   "cell_type": "markdown",
   "metadata": {},
   "source": [
    "# **DATA PREPARATION**"
   ]
  },
  {
   "cell_type": "markdown",
   "metadata": {},
   "source": [
    "## **Penjelasan Data Preparation**\n",
    "\n",
    "Jika pada materi Data Understanding kita hanya terbatas pada pengenalan data yang akan kita proses, di materi ini kita akan mempersiapkan data agar dapat diproses dan dijadikan sumber informasi yang lebih akurat. Pada materi ini akan berkaitan dengan menghapus data yang tidak diperlukan, mengganti data agar lebih relevan dengan tujuannya, dan menghubungka data satu dengan yang lainnya menjadi satu kesatuan, dan proses proses lain yang dapat dilakukan. \n",
    "\n",
    "Data Preparation ini tidak kalah penting dibandingkan dengan Data Understanding dikarenakan jika kita salah memproses data maka informasi yang akan dihasilkan juga bisa salah. Pada Data Mining ada istilah yang dinamakan dengan *Garbage in Garbage Out*, istilah ini mengacu pada jika data yang diproses salah dari awal maka hasil informasinya juga akan salah dan tidak dapat digunakan sama sekali. "
   ]
  },
  {
   "cell_type": "markdown",
   "metadata": {},
   "source": [
    "## **Fungsi Data Preparation**\n",
    "\n",
    "### *Meningkatkan kualitas data*\n",
    "Sering kali jika kita ingin memproses suatu data, data tersebut masih banyak mempunyai data sampah seperti data outliers, data missing, kesalahan data dan yang lainnya. Nahh pada materi ini kita akan benar benar menghilangkan atau mengganti kumpulan data tersebut menjadi lebih akurat. Jadi dengan data yang bersih kita bisa mendapatkan informasi yang akurat juga. \n",
    "\n",
    "### *Membuat Sesuai dengan Analis*\n",
    "Pada data preparation kita juga akan mempersiapkan data apa saja yang mungkin dibutuhkan. Data juga sebenarnya tidak semuanya akan diproses, karena akan memperlambat pemprosesan data untuk mendapatkan informasi. Data yang nanti diproses biasanya harus sesuai dengan tujuan instansi. Semisal jika kita ingin mengklasifikasikan data pasien rumah sakit, tidak mungkinkan kalau kita memproses data parkiran motor yang ada dirumah sakit. Contoh lain semisal sekolah ingin memprediksi kira kira berapa murid yang mungkin akan masuk ke sekolah, tidak mungkinkan sekolah mempersiapkan data berat badan siswa. \n",
    "\n",
    "### *Mengurangi Kompleksitas Data*\n",
    "Masih berkaitan dengan fungsi sebelumnya, data data yang sekiranya tidak diperlukan tidak perlu ikut untuk diproses karena akan memperlambat proses analisa dan juga akan membebani komputasi. Dengan tidak diikutkannya data yang tidak penting proses analisa akan jauh lebih cepat dan lebih akurat juga, karena tidak melibatkan data data yang tidak perlu. \n"
   ]
  },
  {
   "cell_type": "markdown",
   "metadata": {},
   "source": [
    "## **Cara Kerja Data Preparation**\n",
    "\n",
    "### *Pembersihan Data ( Cleaning Data)*\n",
    "Pada Proses ini penulis akan mengani data data yang dianggap bermasalah\n"
   ]
  },
  {
   "cell_type": "markdown",
   "metadata": {},
   "source": [
    "## Klasifikasi Naive Bayes\n",
    "\n",
    "### Class : \n",
    "\n",
    "1. binary class\n",
    "2. multi class\n",
    "\n",
    "### Fitur\n",
    "1. numerik : menggunakan untuk menghitunga fitur ini  = propabilitas gaussian\n",
    "\n",
    "Rumus = \n",
    "\n",
    " - variansi \n",
    "\n",
    " - standard devisiansi\n",
    "\n",
    "- Propabilitas gaussian\n",
    "\n",
    "2. kategorikal : \n",
    "\n",
    "### Propabilitas\n",
    "data a / seluruh data\n",
    "\n",
    "### Propabilitas Bersyarat\n",
    "data a / data b\n",
    "\n",
    "### Prinsip dasar teorema bayes\n",
    "\n",
    "- posterior \n",
    "- likelihood\n",
    "- prior\n"
   ]
  }
 ],
 "metadata": {
  "language_info": {
   "name": "python"
  }
 },
 "nbformat": 4,
 "nbformat_minor": 2
}
