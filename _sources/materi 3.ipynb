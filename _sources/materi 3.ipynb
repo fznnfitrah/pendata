{
 "cells": [
  {
   "cell_type": "markdown",
   "metadata": {},
   "source": [
    "# **MODELING DATA**"
   ]
  },
  {
   "cell_type": "markdown",
   "metadata": {},
   "source": [
    "Tempor sint pariatur voluptate laboris. Qui sint qui eu ullamco consectetur enim ullamco. Duis quis occaecat aute qui dolor labore deserunt esse veniam magna deserunt. Occaecat do culpa sint incididunt minim irure culpa excepteur.\n",
    "\n",
    "Deserunt fugiat amet in ipsum ut excepteur aute sunt in dolor aute est. Nostrud adipisicing minim duis quis id incididunt sunt. Veniam consectetur non ea sit eu excepteur sit amet cillum Lorem ad velit do. Ex deserunt pariatur et eiusmod qui sint anim. Officia veniam duis adipisicing esse Lorem mollit labore laborum veniam quis. Id anim ullamco labore amet. Non incididunt proident irure labore Lorem velit sit.\n",
    "\n",
    "Ad irure officia nisi pariatur commodo velit. Culpa elit proident ex tempor ullamco in elit eu aliqua est adipisicing do elit. Ea non commodo enim dolore nostrud ut velit velit sint voluptate incididunt aliqua Lorem ullamco. Ex incididunt incididunt occaecat amet elit eiusmod incididunt excepteur excepteur dolore veniam nostrud. Veniam do ea consectetur excepteur esse cupidatat. Eiusmod labore sunt nulla sint consequat.\n"
   ]
  },
  {
   "cell_type": "code",
   "execution_count": 1,
   "metadata": {},
   "outputs": [
    {
     "name": "stdout",
     "output_type": "stream",
     "text": [
      "hello world\n"
     ]
    }
   ],
   "source": [
    "print('hello world')\n"
   ]
  }
 ],
 "metadata": {
  "kernelspec": {
   "display_name": "Python 3",
   "language": "python",
   "name": "python3"
  },
  "language_info": {
   "codemirror_mode": {
    "name": "ipython",
    "version": 3
   },
   "file_extension": ".py",
   "mimetype": "text/x-python",
   "name": "python",
   "nbconvert_exporter": "python",
   "pygments_lexer": "ipython3",
   "version": "3.13.3"
  },
  "widgets": {
   "application/vnd.jupyter.widget-state+json": {
    "state": {},
    "version_major": 2,
    "version_minor": 0
   }
  }
 },
 "nbformat": 4,
 "nbformat_minor": 4
}
