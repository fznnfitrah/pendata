{
 "cells": [
  {
   "cell_type": "markdown",
   "metadata": {},
   "source": [
    "# Alat dan Bahan Data Mining\n",
    "\n",
    "Data Mining merupakan suatu matakuliah yang harus memiliki alat dan bahan terlebih dahulu sebelum kita bisa memulainya. Oleh karena itu untuk kita bisa melakukan penambangan terhadap data, kita harus menyediakan beberapa hal yang nanti akan kita gunakan. berikut alat dan bahan yang mungkin saya gunakan dalam matakuliah DATA MINING ini:\n",
    "\n",
    "1. Laptop\n",
    "2. Python\n",
    "3. Jupyter Notebook\n",
    "4. Data dummy\n",
    "5. Github\n",
    "6. Trinket\n",
    "7. Google Colab"
   ]
  }
 ],
 "metadata": {
  "kernelspec": {
   "display_name": "Python 3",
   "language": "python",
   "name": "python3"
  },
  "language_info": {
   "codemirror_mode": {
    "name": "ipython",
    "version": 3
   },
   "file_extension": ".py",
   "mimetype": "text/x-python",
   "name": "python",
   "nbconvert_exporter": "python",
   "pygments_lexer": "ipython3",
   "version": "3.8.0"
  },
  "widgets": {
   "application/vnd.jupyter.widget-state+json": {
    "state": {},
    "version_major": 2,
    "version_minor": 0
   }
  }
 },
 "nbformat": 4,
 "nbformat_minor": 4
}
