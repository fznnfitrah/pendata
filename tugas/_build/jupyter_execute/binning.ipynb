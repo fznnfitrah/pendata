{
 "cells": [
  {
   "cell_type": "markdown",
   "id": "6216bac1",
   "metadata": {},
   "source": [
    "# ***Binning Techneque***"
   ]
  },
  {
   "cell_type": "markdown",
   "id": "bc4b41d1",
   "metadata": {},
   "source": [
    "## **Pengertian Teknik Binning**\n",
    "\n",
    "Binning (atau bucketing) adalah teknik pra-pemrosesan data yang membagi nilai-nilai numerik berkelanjutan menjadi interval (bin) dan mengganti nilai asli dengan nilai representatif (misalnya rata-rata bin). Tujuannya adalah menyederhanakan data dan meminimalkan efek variasi kecil (noise) dengan menghaluskan data sehingga model lebih tahan terhadap fluktuasi minor. Dalam proses binning, atribut numerik diubah menjadi atribut kategorikal dengan membentuk kelas-kelas nominal pada rentang nilai tertentu. Keuntungan utama binning antara lain pengurangan dimensi data, peningkatan kecepatan pemrosesan algoritma, serta penyederhanaan interpretasi pola. Dengan data yang telah di-binning, algoritma seperti pohon keputusan atau Naïve Bayes dapat bekerja lebih efektif, bahkan meningkatkan akurasi klasifikasi."
   ]
  },
  {
   "cell_type": "markdown",
   "id": "7187b6b3",
   "metadata": {},
   "source": [
    "## **Jenis Teknik Binning**\n",
    "\n",
    "* Equal-Width Binning (Lebar Sama): Data kontinu dibagi menjadi 𝑘 interval yang memiliki panjang (rentang) sama. Lebar tiap bin dihitung dengan rumus $(max−min)/𝑘(max−min)/k$. Kelebihannya adalah sederhana dan mudah diimplementasikan. Namun, jika data terdistribusi tidak merata, metode ini dapat menghasilkan bin dengan jumlah elemen yang sangat tidak seimbang (beberapa bin kosong sementara yang lain penuh)\n",
    "\n",
    "* Equal-Frequency Binning (Frekuensi Sama): Setiap bin memuat jumlah data (frekuensi) yang kurang lebih sama. Metode ini memastikan setiap bin berisi banyak elemen yang seimbang, sehingga menghindari bin bernilai jarang atau kosong. Kekurangannya, lebar interval tiap bin bisa sangat bervariasi: bin yang berisi data yang rapat akan punya rentang sempit, sedangkan bin pada ujung distribusi bisa meliputi rentang luas.\n",
    "\n",
    "* Binning Berbasis Klaster/Statistik: Metode ini menggunakan pola data untuk menentukan bin. Misalnya, clustering-based binning menggunakan algoritma klaster (seperti k-means) untuk mengelompokkan nilai satu dimensi menjadi beberapa cluster (bin) berdasarkan kemiripan. Pendekatan ini berguna jika data memiliki kelompok alami (mode) tersembunyi. Selain itu, terdapat pendekatan berbasis statistik, seperti pembagian menurut kuantil/persentil atau smoothing nilai dengan mean/median/bin boundary. Dalam smoothing, setiap nilai dalam bin diganti dengan rata-rata bin (bin mean), median bin (bin median), atau nilai batas terdekat dalam bin (bin boundary). Pendekatan berbasis klaster atau statistik ini dapat menangkap struktur distribusi data yang kompleks, tetapi umumnya lebih rumit dan berisiko menghasilkan batas bin yang sulit diinterpretasi\n"
   ]
  },
  {
   "cell_type": "markdown",
   "id": "f2951233",
   "metadata": {},
   "source": [
    "### **Binning Technique dengan Kmeans**"
   ]
  },
  {
   "cell_type": "code",
   "execution_count": 1,
   "id": "b0234cea",
   "metadata": {},
   "outputs": [],
   "source": [
    "import pandas as pd\n",
    "import matplotlib.pyplot as plt\n",
    "import numpy as np\n",
    "import sklearn\n",
    "from sklearn.cluster import  KMeans\n",
    "from sklearn import preprocessing\n",
    "from sklearn.preprocessing import StandardScaler"
   ]
  },
  {
   "cell_type": "code",
   "execution_count": 2,
   "id": "dc3af10c",
   "metadata": {},
   "outputs": [],
   "source": [
    "iris = pd.read_csv(\"iris.csv\")\n",
    "iris_copy = iris.copy()\n",
    "\n",
    "# Buat data salinan dari data asli\n",
    "data = pd.DataFrame(iris_copy)\n",
    "\n",
    "# Buat Model Standarisasi\n",
    "scaler = StandardScaler()\n",
    "\n",
    "# Buat Salinan untuk Menyimpan Data Kategorikal\n",
    "data_categorical = data.copy()\n",
    "data_numeric = data.copy()\n",
    "\n",
    "# Buat Nilai Konversi pada setiap cluster yang ada\n",
    "cluster_mapping = {\n",
    "    0: 'A',\n",
    "    1: 'B',\n",
    "    2: 'C',\n",
    "    3: 'D'\n",
    "}\n"
   ]
  },
  {
   "cell_type": "code",
   "execution_count": 3,
   "id": "ed32ff3c",
   "metadata": {},
   "outputs": [
    {
     "name": "stdout",
     "output_type": "stream",
     "text": [
      "      id           Class  petal length  petal width  sepal width  \\\n",
      "0      1     Iris-setosa           1.4          0.2          3.5   \n",
      "1      2     Iris-setosa           1.4          0.2          3.0   \n",
      "2      3     Iris-setosa           1.3          0.2          3.2   \n",
      "3      4     Iris-setosa           1.5          0.2          3.1   \n",
      "4      5     Iris-setosa           1.4          0.2          3.6   \n",
      "..   ...             ...           ...          ...          ...   \n",
      "145  146  Iris-virginica           5.2          2.3          3.0   \n",
      "146  147  Iris-virginica           5.0          1.9          2.5   \n",
      "147  148  Iris-virginica           5.2          2.0          3.0   \n",
      "148  149  Iris-virginica           5.4          2.3          3.4   \n",
      "149  150  Iris-virginica           5.1          1.8          3.0   \n",
      "\n",
      "    sepal length categorical  \n",
      "0                          C  \n",
      "1                          C  \n",
      "2                          C  \n",
      "3                          C  \n",
      "4                          C  \n",
      "..                       ...  \n",
      "145                        A  \n",
      "146                        A  \n",
      "147                        A  \n",
      "148                        A  \n",
      "149                        B  \n",
      "\n",
      "[150 rows x 6 columns]\n",
      "[[ 0.60747211]\n",
      " [-0.26614416]\n",
      " [-1.15917263]\n",
      " [ 1.68625286]]\n"
     ]
    }
   ],
   "source": [
    "# Preprocessing Data Sepal Length\n",
    "sepal_length = data[['sepal length']]\n",
    "seleng_standart = scaler.fit_transform(sepal_length)\n",
    "\n",
    "# Model Kmeans Sepal Length\n",
    "kmean_sepal_length4 = KMeans(n_clusters=4, random_state=42, max_iter=350)\n",
    "kmean_sepal_length4.fit(seleng_standart)\n",
    "label_sepal_length = kmean_sepal_length4.fit_predict(seleng_standart)\n",
    "\n",
    "# Nilai Centroid setiap cluster\n",
    "centroid_seleng = kmean_sepal_length4.cluster_centers_\n",
    "\n",
    "# #Ubah Nilainya dari Numpy menjadi Series\n",
    "label_sepal_length_Series = pd.Series(label_sepal_length)\n",
    "\n",
    "# # Buat kolom baru berdasarkan mapping\n",
    "data_categorical['sepal length categorical'] = label_sepal_length_Series.map(cluster_mapping)\n",
    "\n",
    "# # Buang Data Numeric\n",
    "data_categorical = data_categorical.drop(columns=['sepal length']) \n",
    "\n",
    "print(data_categorical)\n",
    "print(centroid_seleng)"
   ]
  },
  {
   "cell_type": "code",
   "execution_count": 4,
   "id": "73446de9",
   "metadata": {},
   "outputs": [
    {
     "name": "stdout",
     "output_type": "stream",
     "text": [
      "      id           Class  petal length  petal width sepal length categorical  \\\n",
      "0      1     Iris-setosa           1.4          0.2                        C   \n",
      "1      2     Iris-setosa           1.4          0.2                        C   \n",
      "2      3     Iris-setosa           1.3          0.2                        C   \n",
      "3      4     Iris-setosa           1.5          0.2                        C   \n",
      "4      5     Iris-setosa           1.4          0.2                        C   \n",
      "..   ...             ...           ...          ...                      ...   \n",
      "145  146  Iris-virginica           5.2          2.3                        A   \n",
      "146  147  Iris-virginica           5.0          1.9                        A   \n",
      "147  148  Iris-virginica           5.2          2.0                        A   \n",
      "148  149  Iris-virginica           5.4          2.3                        A   \n",
      "149  150  Iris-virginica           5.1          1.8                        B   \n",
      "\n",
      "    sepal width categorical  \n",
      "0                         A  \n",
      "1                         C  \n",
      "2                         C  \n",
      "3                         C  \n",
      "4                         A  \n",
      "..                      ...  \n",
      "145                       C  \n",
      "146                       B  \n",
      "147                       C  \n",
      "148                       A  \n",
      "149                       C  \n",
      "\n",
      "[150 rows x 6 columns]\n",
      "[[ 1.24142181]\n",
      " [-1.29599685]\n",
      " [-0.1249576 ]]\n"
     ]
    }
   ],
   "source": [
    "# Preprocessing Data Sepal Length\n",
    "sepal_width = data[['sepal width']]\n",
    "sepal_width_standart = scaler.fit_transform(sepal_width)\n",
    "\n",
    "# Model Kmeans Sepal Length\n",
    "kmean_sepal_width3 = KMeans(n_clusters=3, random_state=42, max_iter=350)\n",
    "kmean_sepal_width3.fit(sepal_width_standart)\n",
    "label_sepal_width = kmean_sepal_width3.fit_predict(sepal_width_standart)\n",
    "\n",
    "# # Nilai Centroid setiap cluster\n",
    "centroid_sepal_width = kmean_sepal_width3.cluster_centers_\n",
    "\n",
    "# #Ubah Nilainya dari Numpy menjadi Series\n",
    "label_sepal_width_Series = pd.Series(label_sepal_width)\n",
    "\n",
    "# # Buat kolom baru berdasarkan mapping\n",
    "data_categorical['sepal width categorical'] = label_sepal_width_Series.map(cluster_mapping)\n",
    "\n",
    "# # Buang Data Numeric\n",
    "data_categorical = data_categorical.drop(columns=['sepal width']) \n",
    "\n",
    "print(data_categorical)\n",
    "print(centroid_sepal_width)"
   ]
  },
  {
   "cell_type": "code",
   "execution_count": 5,
   "id": "fde85262",
   "metadata": {},
   "outputs": [
    {
     "name": "stdout",
     "output_type": "stream",
     "text": [
      "      id           Class  petal width sepal length categorical  \\\n",
      "0      1     Iris-setosa          0.2                        C   \n",
      "1      2     Iris-setosa          0.2                        C   \n",
      "2      3     Iris-setosa          0.2                        C   \n",
      "3      4     Iris-setosa          0.2                        C   \n",
      "4      5     Iris-setosa          0.2                        C   \n",
      "..   ...             ...          ...                      ...   \n",
      "145  146  Iris-virginica          2.3                        A   \n",
      "146  147  Iris-virginica          1.9                        A   \n",
      "147  148  Iris-virginica          2.0                        A   \n",
      "148  149  Iris-virginica          2.3                        A   \n",
      "149  150  Iris-virginica          1.8                        B   \n",
      "\n",
      "    sepal width categorical petal length categorical  \n",
      "0                         A                        B  \n",
      "1                         C                        B  \n",
      "2                         C                        B  \n",
      "3                         C                        B  \n",
      "4                         A                        B  \n",
      "..                      ...                      ...  \n",
      "145                       C                        A  \n",
      "146                       B                        A  \n",
      "147                       C                        A  \n",
      "148                       A                        D  \n",
      "149                       C                        A  \n",
      "\n",
      "[150 rows x 6 columns]\n",
      "[[ 0.59721626]\n",
      " [-1.30487835]\n",
      " [ 0.07127168]\n",
      " [ 1.2195798 ]]\n"
     ]
    }
   ],
   "source": [
    "# Preprocessing Data Petal Length\n",
    "petal_length = data[['petal length']]\n",
    "petal_length_standart = scaler.fit_transform(petal_length)\n",
    "\n",
    "# Model Kmeans Petal Length\n",
    "kmean_petal_length = KMeans(n_clusters=4, random_state=42, max_iter=350)\n",
    "kmean_petal_length.fit(petal_length_standart)\n",
    "label_petal_length = kmean_petal_length.fit_predict(petal_length_standart)\n",
    "\n",
    "# Nilai Centroid setiap cluster\n",
    "centroid_petal_length = kmean_petal_length.cluster_centers_\n",
    "\n",
    "# Ubah Nilainya dari Numpy menjadi Series\n",
    "label_petal_length_Series = pd.Series(label_petal_length)\n",
    "\n",
    "# Buat kolom baru berdasarkan mapping\n",
    "data_categorical['petal length categorical'] = label_petal_length_Series.map(cluster_mapping)\n",
    "\n",
    "# Buang Data Numeric\n",
    "data_categorical = data_categorical.drop(columns=['petal length']) \n",
    "\n",
    "print(data_categorical)\n",
    "print(centroid_petal_length)"
   ]
  },
  {
   "cell_type": "code",
   "execution_count": 6,
   "id": "07eeaaa6",
   "metadata": {},
   "outputs": [
    {
     "name": "stdout",
     "output_type": "stream",
     "text": [
      "      id           Class sepal length categorical sepal width categorical  \\\n",
      "0      1     Iris-setosa                        C                       A   \n",
      "1      2     Iris-setosa                        C                       C   \n",
      "2      3     Iris-setosa                        C                       C   \n",
      "3      4     Iris-setosa                        C                       C   \n",
      "4      5     Iris-setosa                        C                       A   \n",
      "..   ...             ...                      ...                     ...   \n",
      "145  146  Iris-virginica                        A                       C   \n",
      "146  147  Iris-virginica                        A                       B   \n",
      "147  148  Iris-virginica                        A                       C   \n",
      "148  149  Iris-virginica                        A                       A   \n",
      "149  150  Iris-virginica                        B                       C   \n",
      "\n",
      "    petal length categorical petal width categorical  \n",
      "0                          B                       B  \n",
      "1                          B                       B  \n",
      "2                          B                       B  \n",
      "3                          B                       B  \n",
      "4                          B                       B  \n",
      "..                       ...                     ...  \n",
      "145                        A                       D  \n",
      "146                        A                       A  \n",
      "147                        A                       A  \n",
      "148                        D                       D  \n",
      "149                        A                       A  \n",
      "\n",
      "[150 rows x 6 columns]\n",
      "[[ 0.69759772]\n",
      " [-1.25512862]\n",
      " [ 0.0455773 ]\n",
      " [ 1.41365835]]\n"
     ]
    }
   ],
   "source": [
    "# Preprocessing Data Petal Length\n",
    "petal_width = data[['petal width']]\n",
    "petal_width_standart = scaler.fit_transform(petal_width)\n",
    "\n",
    "# Model Kmeans Petal Length\n",
    "kmean_petal_width = KMeans(n_clusters=4, random_state=42, max_iter=350)\n",
    "kmean_petal_width.fit(petal_width_standart)\n",
    "label_petal_width = kmean_petal_width.fit_predict(petal_width_standart)\n",
    "\n",
    "# # Nilai Centroid setiap cluster\n",
    "centroid_petal_width = kmean_petal_width.cluster_centers_\n",
    "\n",
    "# # Ubah Nilainya dari Numpy menjadi Series\n",
    "label_petal_width_Series = pd.Series(label_petal_width)\n",
    "\n",
    "# # Buat kolom baru berdasarkan mapping\n",
    "data_categorical['petal width categorical'] = label_petal_width_Series.map(cluster_mapping)\n",
    "\n",
    "# # Buang Data Numeric\n",
    "data_categorical = data_categorical.drop(columns=['petal width']) \n",
    "\n",
    "print(data_categorical)\n",
    "print(centroid_petal_width)"
   ]
  },
  {
   "cell_type": "markdown",
   "id": "4556118c",
   "metadata": {},
   "source": [
    "### **Prosesing Data Algoritma Naive Bayes dan Decision Tree**"
   ]
  },
  {
   "cell_type": "code",
   "execution_count": 7,
   "id": "b6c1e6d8",
   "metadata": {},
   "outputs": [
    {
     "name": "stdout",
     "output_type": "stream",
     "text": [
      "<class 'pandas.core.frame.DataFrame'>\n",
      "\n",
      "      id           Class  petal length  petal width  sepal length  sepal width\n",
      "0      1     Iris-setosa           1.4          0.2           5.1          3.5\n",
      "1      2     Iris-setosa           1.4          0.2           4.9          3.0\n",
      "2      3     Iris-setosa           1.3          0.2           4.7          3.2\n",
      "3      4     Iris-setosa           1.5          0.2           4.6          3.1\n",
      "4      5     Iris-setosa           1.4          0.2           5.0          3.6\n",
      "..   ...             ...           ...          ...           ...          ...\n",
      "145  146  Iris-virginica           5.2          2.3           6.7          3.0\n",
      "146  147  Iris-virginica           5.0          1.9           6.3          2.5\n",
      "147  148  Iris-virginica           5.2          2.0           6.5          3.0\n",
      "148  149  Iris-virginica           5.4          2.3           6.2          3.4\n",
      "149  150  Iris-virginica           5.1          1.8           5.9          3.0\n",
      "\n",
      "[150 rows x 6 columns]\n"
     ]
    }
   ],
   "source": [
    "print(type(data_numeric))\n",
    "print()\n",
    "print(data_numeric)"
   ]
  },
  {
   "cell_type": "code",
   "execution_count": 8,
   "id": "61754387",
   "metadata": {},
   "outputs": [
    {
     "name": "stdout",
     "output_type": "stream",
     "text": [
      "<class 'pandas.core.frame.DataFrame'>\n",
      "\n",
      "      id           Class sepal length categorical sepal width categorical  \\\n",
      "0      1     Iris-setosa                        C                       A   \n",
      "1      2     Iris-setosa                        C                       C   \n",
      "2      3     Iris-setosa                        C                       C   \n",
      "3      4     Iris-setosa                        C                       C   \n",
      "4      5     Iris-setosa                        C                       A   \n",
      "..   ...             ...                      ...                     ...   \n",
      "145  146  Iris-virginica                        A                       C   \n",
      "146  147  Iris-virginica                        A                       B   \n",
      "147  148  Iris-virginica                        A                       C   \n",
      "148  149  Iris-virginica                        A                       A   \n",
      "149  150  Iris-virginica                        B                       C   \n",
      "\n",
      "    petal length categorical petal width categorical  \n",
      "0                          B                       B  \n",
      "1                          B                       B  \n",
      "2                          B                       B  \n",
      "3                          B                       B  \n",
      "4                          B                       B  \n",
      "..                       ...                     ...  \n",
      "145                        A                       D  \n",
      "146                        A                       A  \n",
      "147                        A                       A  \n",
      "148                        D                       D  \n",
      "149                        A                       A  \n",
      "\n",
      "[150 rows x 6 columns]\n"
     ]
    }
   ],
   "source": [
    "print(type(data_categorical))\n",
    "print()\n",
    "print(data_categorical)"
   ]
  },
  {
   "cell_type": "markdown",
   "id": "c2f94ecb",
   "metadata": {},
   "source": [
    "#### **Algoritma Naive Bayes Data Numerik**"
   ]
  },
  {
   "cell_type": "code",
   "execution_count": 9,
   "id": "0c11fcf1",
   "metadata": {},
   "outputs": [
    {
     "name": "stdout",
     "output_type": "stream",
     "text": [
      "Akurasi: 0.9666666666666667\n",
      "\n",
      "Laporan klasifikasi:\n",
      "                  precision    recall  f1-score   support\n",
      "\n",
      "    Iris-setosa       1.00      1.00      1.00        10\n",
      "Iris-versicolor       0.90      1.00      0.95         9\n",
      " Iris-virginica       1.00      0.91      0.95        11\n",
      "\n",
      "       accuracy                           0.97        30\n",
      "      macro avg       0.97      0.97      0.97        30\n",
      "   weighted avg       0.97      0.97      0.97        30\n",
      "\n"
     ]
    }
   ],
   "source": [
    "import pandas as pd\n",
    "from sklearn.model_selection import train_test_split\n",
    "from sklearn.preprocessing import LabelEncoder\n",
    "from sklearn.naive_bayes import CategoricalNB\n",
    "from sklearn.metrics import classification_report, accuracy_score\n",
    "\n",
    "\n",
    "# 2. Ambil fitur dan label\n",
    "features_numeric = data_numeric[[\n",
    "    'sepal length',\n",
    "    'sepal width',\n",
    "    'petal length',\n",
    "    'petal width'\n",
    "]].copy()\n",
    "labels_numeric = data_numeric['Class']\n",
    "\n",
    "# # 4. Split data\n",
    "X_train_numeric, X_test_numeric, y_train_numeric, y_test_numeric = train_test_split(features_numeric, labels_numeric, test_size=0.2, random_state=42)\n",
    "\n",
    "# 5. Gunakan Naive Bayes (CategoricalNB cocok untuk data kategori)\n",
    "model = CategoricalNB()\n",
    "model.fit(X_train_numeric, y_train_numeric)\n",
    "\n",
    "# 6. Prediksi dan evaluasi\n",
    "y_pred_numeric = model.predict(X_test_numeric)\n",
    "print(\"Akurasi:\", accuracy_score(y_test_numeric, y_pred_numeric))\n",
    "print(\"\\nLaporan klasifikasi:\\n\", classification_report(y_test_numeric, y_pred_numeric))\n"
   ]
  },
  {
   "cell_type": "markdown",
   "id": "7d0774f7",
   "metadata": {},
   "source": [
    "#### **Algoritma Naive Bayes Data Kategorikal**"
   ]
  },
  {
   "cell_type": "code",
   "execution_count": 10,
   "id": "a6d65387",
   "metadata": {},
   "outputs": [
    {
     "name": "stdout",
     "output_type": "stream",
     "text": [
      "Akurasi: 0.9\n",
      "\n",
      "Laporan klasifikasi:\n",
      "               precision    recall  f1-score   support\n",
      "\n",
      "           0       1.00      1.00      1.00        10\n",
      "           1       1.00      0.67      0.80         9\n",
      "           2       0.79      1.00      0.88        11\n",
      "\n",
      "    accuracy                           0.90        30\n",
      "   macro avg       0.93      0.89      0.89        30\n",
      "weighted avg       0.92      0.90      0.90        30\n",
      "\n"
     ]
    }
   ],
   "source": [
    "import pandas as pd\n",
    "from sklearn.model_selection import train_test_split\n",
    "from sklearn.preprocessing import LabelEncoder\n",
    "from sklearn.naive_bayes import CategoricalNB\n",
    "from sklearn.metrics import classification_report, accuracy_score\n",
    "\n",
    "\n",
    "# 2. Ambil fitur dan label\n",
    "features_categorical = data_categorical[[\n",
    "    'sepal length categorical',\n",
    "    'sepal width categorical',\n",
    "    'petal length categorical',\n",
    "    'petal width categorical'\n",
    "]].copy()\n",
    "labels = data_categorical['Class']\n",
    "\n",
    "# 3. Label encoding (ubah A/B/C/D dan nama kelas ke angka)\n",
    "le = LabelEncoder()\n",
    "for col in features_categorical.columns:\n",
    "    features_categorical[col] = le.fit_transform(features_categorical[col])\n",
    "\n",
    "labels = LabelEncoder().fit_transform(labels)\n",
    "\n",
    "# 4. Split data\n",
    "X_train_categorical, X_test_categorical, y_train_categorical, y_test_categorical = train_test_split(features_categorical, labels, test_size=0.2, random_state=42)\n",
    "\n",
    "# 5. Gunakan Naive Bayes (CategoricalNB cocok untuk data kategori)\n",
    "model = CategoricalNB()\n",
    "model.fit(X_train_categorical, y_train_categorical)\n",
    "\n",
    "# 6. Prediksi dan evaluasi\n",
    "y_pred_categorical = model.predict(X_test_categorical)\n",
    "print(\"Akurasi:\", accuracy_score(y_test_categorical, y_pred_categorical))\n",
    "print(\"\\nLaporan klasifikasi:\\n\", classification_report(y_test_categorical, y_pred_categorical))\n"
   ]
  },
  {
   "cell_type": "markdown",
   "id": "60bd0763",
   "metadata": {},
   "source": [
    "#### **Algoritma Decision Tree Data Kategorikal**"
   ]
  },
  {
   "cell_type": "code",
   "execution_count": 11,
   "id": "4a5a49c9",
   "metadata": {},
   "outputs": [
    {
     "name": "stdout",
     "output_type": "stream",
     "text": [
      "Akurasi:"
     ]
    },
    {
     "name": "stdout",
     "output_type": "stream",
     "text": [
      " 0.9\n",
      "\n",
      "Laporan klasifikasi:\n",
      "                  precision    recall  f1-score   support\n",
      "\n",
      "    Iris-setosa       1.00      1.00      1.00        10\n",
      "Iris-versicolor       0.80      0.89      0.84         9\n",
      " Iris-virginica       0.90      0.82      0.86        11\n",
      "\n",
      "       accuracy                           0.90        30\n",
      "      macro avg       0.90      0.90      0.90        30\n",
      "   weighted avg       0.90      0.90      0.90        30\n",
      "\n"
     ]
    }
   ],
   "source": [
    "from sklearn.tree import DecisionTreeClassifier\n",
    "from sklearn.model_selection import train_test_split\n",
    "from sklearn.metrics import accuracy_score, classification_report\n",
    "\n",
    "# 1. Siapkan data\n",
    "features_categoricalDt = features_categorical.copy()         # features = fitur kategorikal yang sudah di-label encode\n",
    "labels_categoricalDt = data_categorical['Class']  # atau gunakan label yang sesuai\n",
    "\n",
    "# 2. Split data (training & testing)\n",
    "train_categoricalDt, test_categoricalDt, y_train_categoricalDt, y_test_categoricalDt = train_test_split(features_categoricalDt, labels_categoricalDt, test_size=0.2, random_state=42)\n",
    "\n",
    "# 3. Buat model Decision Tree dan latih\n",
    "model = DecisionTreeClassifier(random_state=42)\n",
    "model.fit(train_categoricalDt, y_train_categoricalDt)\n",
    "\n",
    "# 4. Lakukan prediksi\n",
    "y_pred_categoricalDt = model.predict(test_categoricalDt)\n",
    "\n",
    "# 5. Evaluasi hasilnya\n",
    "print(\"Akurasi:\", accuracy_score(y_test_categoricalDt, y_pred_categoricalDt))\n",
    "print(\"\\nLaporan klasifikasi:\\n\", classification_report(y_test_categoricalDt, y_pred_categoricalDt))"
   ]
  },
  {
   "cell_type": "markdown",
   "id": "b16f9ba8",
   "metadata": {},
   "source": [
    "#### **Algoritma Decision Tree Data Numerik**"
   ]
  },
  {
   "cell_type": "code",
   "execution_count": 12,
   "id": "1b3d4771",
   "metadata": {},
   "outputs": [
    {
     "name": "stdout",
     "output_type": "stream",
     "text": [
      "Akurasi: 1.0\n",
      "\n",
      "Laporan klasifikasi:\n",
      "                  precision    recall  f1-score   support\n",
      "\n",
      "    Iris-setosa       1.00      1.00      1.00        10\n",
      "Iris-versicolor       1.00      1.00      1.00         9\n",
      " Iris-virginica       1.00      1.00      1.00        11\n",
      "\n",
      "       accuracy                           1.00        30\n",
      "      macro avg       1.00      1.00      1.00        30\n",
      "   weighted avg       1.00      1.00      1.00        30\n",
      "\n"
     ]
    }
   ],
   "source": [
    "from sklearn.tree import DecisionTreeClassifier\n",
    "from sklearn.model_selection import train_test_split\n",
    "from sklearn.metrics import accuracy_score, classification_report\n",
    "\n",
    "# 1. Siapkan data\n",
    "features_numericDt = features_numeric.copy()         # features = fitur kategorikal yang sudah di-label encode\n",
    "labels_numericDt = data_numeric['Class']  # atau gunakan label yang sesuai\n",
    "\n",
    "# # 2. Split data (training & testing)\n",
    "train_numericDt, test_numericDt, y_train_numericDt, y_test_numericDt = train_test_split(features_numericDt, labels_numericDt, test_size=0.2, random_state=42)\n",
    "\n",
    "# # 3. Buat model Decision Tree dan latih\n",
    "model = DecisionTreeClassifier(random_state=42)\n",
    "model.fit(train_numericDt, y_train_numericDt)\n",
    "\n",
    "# # 4. Lakukan prediksi\n",
    "y_pred_numericDt = model.predict(test_numericDt)\n",
    "\n",
    "# # 5. Evaluasi hasilnya\n",
    "print(\"Akurasi:\", accuracy_score(y_test_numericDt, y_pred_numericDt))\n",
    "print(\"\\nLaporan klasifikasi:\\n\", classification_report(y_test_numericDt, y_pred_numericDt))"
   ]
  }
 ],
 "metadata": {
  "kernelspec": {
   "display_name": "Python 3",
   "language": "python",
   "name": "python3"
  },
  "language_info": {
   "codemirror_mode": {
    "name": "ipython",
    "version": 3
   },
   "file_extension": ".py",
   "mimetype": "text/x-python",
   "name": "python",
   "nbconvert_exporter": "python",
   "pygments_lexer": "ipython3",
   "version": "3.13.5"
  }
 },
 "nbformat": 4,
 "nbformat_minor": 5
}